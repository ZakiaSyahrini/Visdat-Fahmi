{
  "nbformat": 4,
  "nbformat_minor": 0,
  "metadata": {
    "colab": {
      "name": "Tubes_Visdat_Kelompok_15.ipynb",
      "provenance": [],
      "collapsed_sections": []
    },
    "kernelspec": {
      "name": "python3",
      "display_name": "Python 3"
    },
    "language_info": {
      "name": "python"
    }
  },
  "cells": [
    {
      "cell_type": "markdown",
      "source": [
        "#Define library yang digunakan"
      ],
      "metadata": {
        "id": "m1mkII-FJGEz"
      }
    },
    {
      "cell_type": "code",
      "execution_count": null,
      "metadata": {
        "id": "h4rWZGYvRrxM",
        "colab": {
          "base_uri": "https://localhost:8080/"
        },
        "outputId": "3ab26197-f87c-4cc5-e5f5-65b31f598c3a"
      },
      "outputs": [
        {
          "output_type": "stream",
          "name": "stdout",
          "text": [
            "Requirement already satisfied: pyproj in /usr/local/lib/python3.7/dist-packages (3.2.1)\n",
            "Requirement already satisfied: certifi in /usr/local/lib/python3.7/dist-packages (from pyproj) (2021.10.8)\n"
          ]
        }
      ],
      "source": [
        "#install pyproj\n",
        "!pip install pyproj\n",
        "#define library\n",
        "from bokeh.io import curdoc\n",
        "from pyproj import Proj, transform\n",
        "import pandas as pd\n",
        "import datetime as dt\n",
        "from bokeh.palettes import Spectral6\n",
        "from bokeh.layouts import widgetbox, row, gridplot\n",
        "from bokeh.models import Slider, Select\n",
        "from bokeh.models import DatePicker, Select, ColumnDataSource, ColorBar\n",
        "from bokeh.palettes import Spectral6\n",
        "from bokeh.models import CategoricalColorMapper\n",
        "from bokeh.transform import linear_cmap\n",
        "from bokeh.layouts import widgetbox, row\n",
        "from bokeh.plotting import figure\n",
        "from bokeh.tile_providers import get_provider, WIKIMEDIA, CARTODBPOSITRON, STAMEN_TERRAIN, STAMEN_TONER, ESRI_IMAGERY, OSM\n",
        "\n",
        "import warnings"
      ]
    },
    {
      "cell_type": "markdown",
      "source": [
        "#Import dataset"
      ],
      "metadata": {
        "id": "e7oC1nspJLQE"
      }
    },
    {
      "cell_type": "code",
      "source": [
        "#Download dataset\n",
        "!gdown --id 1xmiMcvvfxVVTK3Rft536AGpB5l38EdUN"
      ],
      "metadata": {
        "colab": {
          "base_uri": "https://localhost:8080/"
        },
        "id": "N2ljQRSHdRGy",
        "outputId": "afdaac92-e183-4a26-cfe2-47ca0c15d1eb"
      },
      "execution_count": null,
      "outputs": [
        {
          "output_type": "stream",
          "name": "stdout",
          "text": [
            "Downloading...\n",
            "From: https://drive.google.com/uc?id=1xmiMcvvfxVVTK3Rft536AGpB5l38EdUN\n",
            "To: /content/covid-19_data.csv\n",
            "\r  0% 0.00/2.67M [00:00<?, ?B/s]\r100% 2.67M/2.67M [00:00<00:00, 85.7MB/s]\n"
          ]
        }
      ]
    },
    {
      "cell_type": "code",
      "source": [
        "#import dataset\n",
        "data = pd.read_csv('covid-19_data.csv')\n",
        "#mengubah kolom date jadi dataset\n",
        "data.set_index('Date', inplace=True)\n",
        "\n",
        "data.head(5)"
      ],
      "metadata": {
        "id": "3FrlnsCYFcJV",
        "colab": {
          "base_uri": "https://localhost:8080/",
          "height": 237
        },
        "outputId": "0acd037a-88f7-41d9-bbda-fac54b322d9c"
      },
      "execution_count": null,
      "outputs": [
        {
          "output_type": "execute_result",
          "data": {
            "text/html": [
              "\n",
              "  <div id=\"df-103d72a4-0543-4071-972a-770d442ae745\">\n",
              "    <div class=\"colab-df-container\">\n",
              "      <div>\n",
              "<style scoped>\n",
              "    .dataframe tbody tr th:only-of-type {\n",
              "        vertical-align: middle;\n",
              "    }\n",
              "\n",
              "    .dataframe tbody tr th {\n",
              "        vertical-align: top;\n",
              "    }\n",
              "\n",
              "    .dataframe thead th {\n",
              "        text-align: right;\n",
              "    }\n",
              "</style>\n",
              "<table border=\"1\" class=\"dataframe\">\n",
              "  <thead>\n",
              "    <tr style=\"text-align: right;\">\n",
              "      <th></th>\n",
              "      <th>new_cases</th>\n",
              "      <th>new_deaths</th>\n",
              "      <th>new_recovered</th>\n",
              "      <th>new_activeCases</th>\n",
              "      <th>total_cases</th>\n",
              "      <th>total_deaths</th>\n",
              "      <th>total_recovered</th>\n",
              "      <th>total_activeCases</th>\n",
              "      <th>Province</th>\n",
              "      <th>Island</th>\n",
              "      <th>Longitude</th>\n",
              "      <th>Latitude</th>\n",
              "      <th>MercatorX</th>\n",
              "      <th>MercatorY</th>\n",
              "    </tr>\n",
              "    <tr>\n",
              "      <th>Date</th>\n",
              "      <th></th>\n",
              "      <th></th>\n",
              "      <th></th>\n",
              "      <th></th>\n",
              "      <th></th>\n",
              "      <th></th>\n",
              "      <th></th>\n",
              "      <th></th>\n",
              "      <th></th>\n",
              "      <th></th>\n",
              "      <th></th>\n",
              "      <th></th>\n",
              "      <th></th>\n",
              "      <th></th>\n",
              "    </tr>\n",
              "  </thead>\n",
              "  <tbody>\n",
              "    <tr>\n",
              "      <th>2020-03-01</th>\n",
              "      <td>2</td>\n",
              "      <td>0</td>\n",
              "      <td>0</td>\n",
              "      <td>2</td>\n",
              "      <td>39</td>\n",
              "      <td>20</td>\n",
              "      <td>41</td>\n",
              "      <td>-22</td>\n",
              "      <td>DKI Jakarta</td>\n",
              "      <td>Jawa</td>\n",
              "      <td>106.836118</td>\n",
              "      <td>-6.204699</td>\n",
              "      <td>1.189294e+07</td>\n",
              "      <td>-692057.913284</td>\n",
              "    </tr>\n",
              "    <tr>\n",
              "      <th>2020-03-02</th>\n",
              "      <td>2</td>\n",
              "      <td>0</td>\n",
              "      <td>0</td>\n",
              "      <td>2</td>\n",
              "      <td>41</td>\n",
              "      <td>20</td>\n",
              "      <td>41</td>\n",
              "      <td>-20</td>\n",
              "      <td>DKI Jakarta</td>\n",
              "      <td>Jawa</td>\n",
              "      <td>106.836118</td>\n",
              "      <td>-6.204699</td>\n",
              "      <td>1.189294e+07</td>\n",
              "      <td>-692057.913284</td>\n",
              "    </tr>\n",
              "    <tr>\n",
              "      <th>2020-03-02</th>\n",
              "      <td>1</td>\n",
              "      <td>0</td>\n",
              "      <td>0</td>\n",
              "      <td>1</td>\n",
              "      <td>2</td>\n",
              "      <td>0</td>\n",
              "      <td>3</td>\n",
              "      <td>-1</td>\n",
              "      <td>Riau</td>\n",
              "      <td>Sumatera</td>\n",
              "      <td>101.805109</td>\n",
              "      <td>0.511648</td>\n",
              "      <td>1.133289e+07</td>\n",
              "      <td>56957.135240</td>\n",
              "    </tr>\n",
              "    <tr>\n",
              "      <th>2020-03-03</th>\n",
              "      <td>2</td>\n",
              "      <td>0</td>\n",
              "      <td>0</td>\n",
              "      <td>2</td>\n",
              "      <td>43</td>\n",
              "      <td>20</td>\n",
              "      <td>41</td>\n",
              "      <td>-18</td>\n",
              "      <td>DKI Jakarta</td>\n",
              "      <td>Jawa</td>\n",
              "      <td>106.836118</td>\n",
              "      <td>-6.204699</td>\n",
              "      <td>1.189294e+07</td>\n",
              "      <td>-692057.913284</td>\n",
              "    </tr>\n",
              "    <tr>\n",
              "      <th>2020-03-03</th>\n",
              "      <td>1</td>\n",
              "      <td>1</td>\n",
              "      <td>0</td>\n",
              "      <td>0</td>\n",
              "      <td>1</td>\n",
              "      <td>1</td>\n",
              "      <td>8</td>\n",
              "      <td>-8</td>\n",
              "      <td>Jawa Barat</td>\n",
              "      <td>Jawa</td>\n",
              "      <td>107.603708</td>\n",
              "      <td>-6.920432</td>\n",
              "      <td>1.197839e+07</td>\n",
              "      <td>-772258.994081</td>\n",
              "    </tr>\n",
              "  </tbody>\n",
              "</table>\n",
              "</div>\n",
              "      <button class=\"colab-df-convert\" onclick=\"convertToInteractive('df-103d72a4-0543-4071-972a-770d442ae745')\"\n",
              "              title=\"Convert this dataframe to an interactive table.\"\n",
              "              style=\"display:none;\">\n",
              "        \n",
              "  <svg xmlns=\"http://www.w3.org/2000/svg\" height=\"24px\"viewBox=\"0 0 24 24\"\n",
              "       width=\"24px\">\n",
              "    <path d=\"M0 0h24v24H0V0z\" fill=\"none\"/>\n",
              "    <path d=\"M18.56 5.44l.94 2.06.94-2.06 2.06-.94-2.06-.94-.94-2.06-.94 2.06-2.06.94zm-11 1L8.5 8.5l.94-2.06 2.06-.94-2.06-.94L8.5 2.5l-.94 2.06-2.06.94zm10 10l.94 2.06.94-2.06 2.06-.94-2.06-.94-.94-2.06-.94 2.06-2.06.94z\"/><path d=\"M17.41 7.96l-1.37-1.37c-.4-.4-.92-.59-1.43-.59-.52 0-1.04.2-1.43.59L10.3 9.45l-7.72 7.72c-.78.78-.78 2.05 0 2.83L4 21.41c.39.39.9.59 1.41.59.51 0 1.02-.2 1.41-.59l7.78-7.78 2.81-2.81c.8-.78.8-2.07 0-2.86zM5.41 20L4 18.59l7.72-7.72 1.47 1.35L5.41 20z\"/>\n",
              "  </svg>\n",
              "      </button>\n",
              "      \n",
              "  <style>\n",
              "    .colab-df-container {\n",
              "      display:flex;\n",
              "      flex-wrap:wrap;\n",
              "      gap: 12px;\n",
              "    }\n",
              "\n",
              "    .colab-df-convert {\n",
              "      background-color: #E8F0FE;\n",
              "      border: none;\n",
              "      border-radius: 50%;\n",
              "      cursor: pointer;\n",
              "      display: none;\n",
              "      fill: #1967D2;\n",
              "      height: 32px;\n",
              "      padding: 0 0 0 0;\n",
              "      width: 32px;\n",
              "    }\n",
              "\n",
              "    .colab-df-convert:hover {\n",
              "      background-color: #E2EBFA;\n",
              "      box-shadow: 0px 1px 2px rgba(60, 64, 67, 0.3), 0px 1px 3px 1px rgba(60, 64, 67, 0.15);\n",
              "      fill: #174EA6;\n",
              "    }\n",
              "\n",
              "    [theme=dark] .colab-df-convert {\n",
              "      background-color: #3B4455;\n",
              "      fill: #D2E3FC;\n",
              "    }\n",
              "\n",
              "    [theme=dark] .colab-df-convert:hover {\n",
              "      background-color: #434B5C;\n",
              "      box-shadow: 0px 1px 3px 1px rgba(0, 0, 0, 0.15);\n",
              "      filter: drop-shadow(0px 1px 2px rgba(0, 0, 0, 0.3));\n",
              "      fill: #FFFFFF;\n",
              "    }\n",
              "  </style>\n",
              "\n",
              "      <script>\n",
              "        const buttonEl =\n",
              "          document.querySelector('#df-103d72a4-0543-4071-972a-770d442ae745 button.colab-df-convert');\n",
              "        buttonEl.style.display =\n",
              "          google.colab.kernel.accessAllowed ? 'block' : 'none';\n",
              "\n",
              "        async function convertToInteractive(key) {\n",
              "          const element = document.querySelector('#df-103d72a4-0543-4071-972a-770d442ae745');\n",
              "          const dataTable =\n",
              "            await google.colab.kernel.invokeFunction('convertToInteractive',\n",
              "                                                     [key], {});\n",
              "          if (!dataTable) return;\n",
              "\n",
              "          const docLinkHtml = 'Like what you see? Visit the ' +\n",
              "            '<a target=\"_blank\" href=https://colab.research.google.com/notebooks/data_table.ipynb>data table notebook</a>'\n",
              "            + ' to learn more about interactive tables.';\n",
              "          element.innerHTML = '';\n",
              "          dataTable['output_type'] = 'display_data';\n",
              "          await google.colab.output.renderOutput(dataTable, element);\n",
              "          const docLink = document.createElement('div');\n",
              "          docLink.innerHTML = docLinkHtml;\n",
              "          element.appendChild(docLink);\n",
              "        }\n",
              "      </script>\n",
              "    </div>\n",
              "  </div>\n",
              "  "
            ],
            "text/plain": [
              "            new_cases  new_deaths  ...     MercatorX      MercatorY\n",
              "Date                               ...                             \n",
              "2020-03-01          2           0  ...  1.189294e+07 -692057.913284\n",
              "2020-03-02          2           0  ...  1.189294e+07 -692057.913284\n",
              "2020-03-02          1           0  ...  1.133289e+07   56957.135240\n",
              "2020-03-03          2           0  ...  1.189294e+07 -692057.913284\n",
              "2020-03-03          1           1  ...  1.197839e+07 -772258.994081\n",
              "\n",
              "[5 rows x 14 columns]"
            ]
          },
          "metadata": {},
          "execution_count": 11
        }
      ]
    },
    {
      "cell_type": "markdown",
      "source": [
        "#Define cartodbpositron"
      ],
      "metadata": {
        "id": "cUkEiIgxJPpz"
      }
    },
    {
      "cell_type": "code",
      "source": [
        "#define beberapa variabel untuk membuat peta dengan cartodbpositron\n",
        "inProj = Proj(init='epsg:3857')\n",
        "outProj = Proj(init='epsg:4326')\n",
        "\n",
        "ind_lon1, ind_lat1 = transform(outProj,inProj,90,-15)\n",
        "ind_lon2, ind_lat2 = transform(outProj,inProj,150,20)\n",
        "cartodb = get_provider(CARTODBPOSITRON)"
      ],
      "metadata": {
        "id": "PEV20PbDFk2V",
        "colab": {
          "base_uri": "https://localhost:8080/"
        },
        "outputId": "6c3ac355-8e32-4b05-cd21-1e347c467d28"
      },
      "execution_count": null,
      "outputs": [
        {
          "output_type": "stream",
          "name": "stderr",
          "text": [
            "/usr/local/lib/python3.7/dist-packages/pyproj/crs/crs.py:131: FutureWarning: '+init=<authority>:<code>' syntax is deprecated. '<authority>:<code>' is the preferred initialization method. When making the change, be mindful of axis order changes: https://pyproj4.github.io/pyproj/stable/gotchas.html#axis-order-changes-in-proj-6\n",
            "  in_crs_string = _prepare_from_proj_string(in_crs_string)\n",
            "/usr/local/lib/python3.7/dist-packages/pyproj/crs/crs.py:131: FutureWarning: '+init=<authority>:<code>' syntax is deprecated. '<authority>:<code>' is the preferred initialization method. When making the change, be mindful of axis order changes: https://pyproj4.github.io/pyproj/stable/gotchas.html#axis-order-changes-in-proj-6\n",
            "  in_crs_string = _prepare_from_proj_string(in_crs_string)\n",
            "/usr/local/lib/python3.7/dist-packages/ipykernel_launcher.py:5: DeprecationWarning: This function is deprecated. See: https://pyproj4.github.io/pyproj/stable/gotchas.html#upgrading-to-pyproj-2-from-pyproj-1\n",
            "  \"\"\"\n",
            "/usr/local/lib/python3.7/dist-packages/ipykernel_launcher.py:6: DeprecationWarning: This function is deprecated. See: https://pyproj4.github.io/pyproj/stable/gotchas.html#upgrading-to-pyproj-2-from-pyproj-1\n",
            "  \n"
          ]
        }
      ]
    },
    {
      "cell_type": "markdown",
      "source": [
        "#Membuat source data dengan ColumDataSource"
      ],
      "metadata": {
        "id": "P6L60SEHJaoT"
      }
    },
    {
      "cell_type": "code",
      "source": [
        "#define variabel 'df' dengan data pada tanggal 2020-03-01 \n",
        "df = data[data.index == '2020-03-01']\n",
        "\n",
        "#define variabel nam untuk menampung nama kolom yang di select\n",
        "nam = []\n",
        "for i in df.new_cases:\n",
        "    nam.append(\"new_cases\")\n",
        "\n",
        "#source digunakan untuk menampilkan data yang akan ditampilkan (data awal)\n",
        "source = ColumnDataSource(data={\n",
        "    'x'         : df.MercatorX, #define x dengan kolom mercatorX dari data dengan index tanggal 2020-03-01\n",
        "    'y'         : df.MercatorY, #define y dengan kolom mercatorY dari data dengan index tanggal 2020-03-01\n",
        "    'dat'       : df.new_cases, #define dat dengan kolom new_cases dari data dengan index tanggal 2020-03-01\n",
        "    'nama'      : nam #define nama dengan nama kolom new_cases \n",
        "})"
      ],
      "metadata": {
        "id": "TO6WWEqXGHKo"
      },
      "execution_count": null,
      "outputs": []
    },
    {
      "cell_type": "markdown",
      "source": [
        "#Mapper color, define figure (map), dan define scatterplot(circle)"
      ],
      "metadata": {
        "id": "JDA-pbO4JfXD"
      }
    },
    {
      "cell_type": "code",
      "source": [
        "#mapper adalah list color dimana akan berwarna merah jika nilai dari data sekitar 800000 dan berwarna biru jika bernilai mendekati 0\n",
        "mapper = linear_cmap('dat', Spectral6 , 0 , 849875)\n",
        "\n",
        "#menampilkan peta pada visualisasi data\n",
        "p = figure(plot_width=900, plot_height=700,\n",
        "           x_range=(ind_lon1, ind_lon2), y_range=(ind_lat1, ind_lat2),\n",
        "           x_axis_type=\"mercator\", y_axis_type=\"mercator\",\n",
        "           tooltips=[\n",
        "                    (\"Data\", \"@nama\"), (\"Jumlah\", \"@dat\") #menampilkan data tiap kolom/data yang diselect\n",
        "                    ],\n",
        "           title=\"Covid in Indonesia\")\n",
        "\n",
        "p.add_tile(cartodb)\n",
        "#plotting scatter plot (circle)\n",
        "p.circle(x='x', y='y',\n",
        "         size=10,\n",
        "         line_color=mapper, color=mapper,\n",
        "         fill_alpha=1.0,\n",
        "         source=source)\n",
        "#menampilkan color bar\n",
        "color_bar = ColorBar(color_mapper=mapper['transform'], width=8)\n",
        "\n",
        "p.add_layout(color_bar, 'right')\n"
      ],
      "metadata": {
        "id": "8b1lvubXGK8T"
      },
      "execution_count": null,
      "outputs": []
    },
    {
      "cell_type": "markdown",
      "source": [
        "#Function update plot dan data"
      ],
      "metadata": {
        "id": "nPefQjCuJnz9"
      }
    },
    {
      "cell_type": "code",
      "source": [
        "def update_plot(attr, old, new):\n",
        "    df = data[data.index == str(dPicker.value)] #update 'df' dengan data dari index date yang di select oleh fitur datepicker\n",
        "    nam = []\n",
        "    for i in df.new_cases:\n",
        "        nam.append(str(data_select.value)) #update var nam\n",
        "    source.data = {\n",
        "        'x'         : df.MercatorX, #update x dengan kolom mercatorX dari data index date yang di select oleh fitur datepicker\n",
        "        'y'         : df.MercatorY, #define y dengan kolom mercatorY dari data index date yang di select oleh fitur datepicker\n",
        "        'dat'       : df[data_select.value], #update dat dengan kolom new_cases dari data kolom yang diselect pada fitur dropdwon select\n",
        "        'nama'      : nam #update nama dengan nama kolom sesuai dengan kolom yang diselect\n",
        "    }"
      ],
      "metadata": {
        "id": "c4VsResPI-R8"
      },
      "execution_count": null,
      "outputs": []
    },
    {
      "cell_type": "markdown",
      "source": [
        "#Define fitur interaktif"
      ],
      "metadata": {
        "id": "60tMMuc8JspD"
      }
    },
    {
      "cell_type": "code",
      "source": [
        "#define fitur interaktif date picker\n",
        "dPicker = DatePicker(\n",
        "    title = 'Date',\n",
        "    value=dt.datetime(2020, 3, 1).date(), \n",
        "    min_date= dt.datetime(2020, 3, 1).date(), max_date=dt.datetime(2021, 12, 3).date()\n",
        ")\n",
        "\n",
        "dPicker.on_change('value', update_plot)\n",
        "\n",
        "#define fitur interaktif dropdown dan select\n",
        "data_select = Select(\n",
        "    options=['new_cases', 'new_deaths',\t'new_recovered', 'new_activeCases', 'total_cases', 'total_deaths',\t'total_recovered', 'total_activeCases'],\n",
        "    value='new_cases',\n",
        "    title='x-axis data'\n",
        ")\n",
        "\n",
        "data_select.on_change('value', update_plot)"
      ],
      "metadata": {
        "id": "FZxElNYRJBNt"
      },
      "execution_count": null,
      "outputs": []
    },
    {
      "cell_type": "markdown",
      "source": [
        "#Membuat layout"
      ],
      "metadata": {
        "id": "5ChheOPmJvq7"
      }
    },
    {
      "cell_type": "code",
      "source": [
        "#memasukan seluruh fitur interaktif dan juga plotingan kedalam layout\n",
        "layout = row(widgetbox(dPicker, data_select), p) \n",
        "curdoc().add_root(layout)"
      ],
      "metadata": {
        "id": "BZvjEwhLJDM6",
        "outputId": "e4cfe84e-de9a-4143-a71c-e4a75a2e3ed8",
        "colab": {
          "base_uri": "https://localhost:8080/"
        }
      },
      "execution_count": null,
      "outputs": [
        {
          "output_type": "stream",
          "name": "stderr",
          "text": [
            "BokehDeprecationWarning: 'WidgetBox' is deprecated and will be removed in Bokeh 3.0, use 'bokeh.models.Column' instead\n"
          ]
        }
      ]
    },
    {
      "cell_type": "markdown",
      "source": [
        "#Penjelasan\n",
        "\n",
        "\n",
        "\n",
        "1.   Alasan kami menggunakan DatePicker dibanding menggunakan slide adalah karna data yang kami gunakan adalah data per-hari dalam rentang 2020-2021 sehingga apabila menggunakan slider untuk memilih tanggal hal tersebut tidak efisien dan sulit untuk memilih tanggal tertentu\n",
        "2.   Alasan kami melakukan visualisasi dalam geospatial/map interaktif dibanding tipe visualisasi lain seperti scatter atau line adalah \n",
        "\n",
        "      *   data yang kami miliki merupakan data per-provinsi dengan jumlah data yang sangat banyak\n",
        "      *   jika dilihat pada kolom date terdapat data yang berbeda dengan tanggal yang sama (dalam satu tanggal misal 2021-07-17 terdapat data yang berbeda dari daerah yang berbeda juga\n",
        "\n",
        " sehingga bentuk dari visualisasi dengan scatter atau line plot kurang memberikan isi dari visualisasi dataset covid. Jika menggunakan map catodbpositron ini maka kami akan mendapatkan visualisasi daerah mana saja yang terdampak covid dengan intensitas yang tinggi dan rendah, selain itu juga memudahkan kita mendapatkan insight dengan tipe visualisasi seperti ini\n",
        "\n"
      ],
      "metadata": {
        "id": "w7JAWo77KiRr"
      }
    }
  ]
}